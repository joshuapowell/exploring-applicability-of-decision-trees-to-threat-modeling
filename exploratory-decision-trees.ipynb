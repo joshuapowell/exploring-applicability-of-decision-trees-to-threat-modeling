{
 "cells": [
  {
   "cell_type": "markdown",
   "metadata": {},
   "source": [
    "# Exploring the Applicability of Decision Trees to Automated Threat Modeling\n",
    "\n",
    "Exploring the basics of decision trees and their applicability to automate threat modeling in the development and deployment of REST APIs."
   ]
  },
  {
   "cell_type": "code",
   "execution_count": null,
   "metadata": {
    "vscode": {
     "languageId": "plaintext"
    }
   },
   "outputs": [],
   "source": [
    "import pandas\n",
    "import requests\n",
    "import matplotlib\n",
    "import sklearn"
   ]
  }
 ],
 "metadata": {
  "language_info": {
   "name": "python"
  }
 },
 "nbformat": 4,
 "nbformat_minor": 2
}
